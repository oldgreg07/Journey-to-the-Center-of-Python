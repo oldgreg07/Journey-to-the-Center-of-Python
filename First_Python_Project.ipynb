{
  "nbformat": 4,
  "nbformat_minor": 0,
  "metadata": {
    "colab": {
      "provenance": [],
      "authorship_tag": "ABX9TyOWtWiqRVc3GOAwmDnQsFmY",
      "include_colab_link": true
    },
    "kernelspec": {
      "name": "python3",
      "display_name": "Python 3"
    },
    "language_info": {
      "name": "python"
    }
  },
  "cells": [
    {
      "cell_type": "markdown",
      "metadata": {
        "id": "view-in-github",
        "colab_type": "text"
      },
      "source": [
        "<a href=\"https://colab.research.google.com/github/oldgreg07/Journey-to-the-Center-of-Python/blob/main/First_Python_Project.ipynb\" target=\"_parent\"><img src=\"https://colab.research.google.com/assets/colab-badge.svg\" alt=\"Open In Colab\"/></a>"
      ]
    },
    {
      "cell_type": "code",
      "execution_count": 2,
      "metadata": {
        "colab": {
          "base_uri": "https://localhost:8080/"
        },
        "id": "XzdcW9uMsomo",
        "outputId": "3765cc7a-b78d-46c1-ae81-4d6739e31ab7"
      },
      "outputs": [
        {
          "output_type": "stream",
          "name": "stdout",
          "text": [
            "Cooper Kupp has a catch rate of 0.7591623036649214\n",
            "Deebo Samuel has a catch rate of 0.6363636363636364\n",
            "Justin Jefferson has a catch rate of 0.6467065868263473\n",
            "Jaylen Waddle has a catch rate of 0.7428571428571429\n"
          ]
        }
      ],
      "source": [
        "#This is my first Python project, following along with the course the Learn Python with Fantasy Football, exploring variables, data types, pulling items from a dictionary, loops, and built-in functions.\n",
        "\n",
        "#First, we created a dictionary of the relevant information for the particular statistic we were attempting to calculate.\n",
        "\n",
        "players = [{\n",
        "    'name': 'Cooper Kupp',\n",
        "    'catches': 145,\n",
        "    'targets': 191\n",
        "}, {\n",
        "    'name': 'Deebo Samuel',\n",
        "    'catches': 77,\n",
        "    'targets': 121\n",
        "}, {\n",
        "    'name': 'Justin Jefferson',\n",
        "    'catches': 108,\n",
        "    'targets': 167\n",
        "}, {\n",
        "    'name': 'Jaylen Waddle',\n",
        "    'catches': 104,\n",
        "    'targets': 140\n",
        "}]\n",
        "\n",
        "#Originally, the video posted on the course utilized statistics from the 2019 season, while the blog post covered the same topics but used statistics from the 2021 season. I stuck with the latter and added in the leading receiver for the Miami Dolphins to the group.\n",
        "\n",
        "for player in players:\n",
        "  name = player['name']\n",
        "  catches = player['catches']\n",
        "  targets = player['targets']\n",
        "  catch_rate = catches/targets\n",
        "  print(name + ' has a catch rate of ' + str(catch_rate))"
      ]
    },
    {
      "cell_type": "code",
      "source": [],
      "metadata": {
        "id": "WEeksB9ruNnO"
      },
      "execution_count": 1,
      "outputs": []
    }
  ]
}