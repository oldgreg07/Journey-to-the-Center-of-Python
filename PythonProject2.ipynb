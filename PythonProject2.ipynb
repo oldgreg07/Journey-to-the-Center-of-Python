{
  "nbformat": 4,
  "nbformat_minor": 0,
  "metadata": {
    "colab": {
      "provenance": [],
      "authorship_tag": "ABX9TyPp4z/3ksFugKB3xXAnvuAV",
      "include_colab_link": true
    },
    "kernelspec": {
      "name": "python3",
      "display_name": "Python 3"
    },
    "language_info": {
      "name": "python"
    }
  },
  "cells": [
    {
      "cell_type": "markdown",
      "metadata": {
        "id": "view-in-github",
        "colab_type": "text"
      },
      "source": [
        "<a href=\"https://colab.research.google.com/github/oldgreg07/Journey-to-the-Center-of-Python/blob/main/PythonProject2.ipynb\" target=\"_parent\"><img src=\"https://colab.research.google.com/assets/colab-badge.svg\" alt=\"Open In Colab\"/></a>"
      ]
    },
    {
      "cell_type": "code",
      "execution_count": 1,
      "metadata": {
        "colab": {
          "base_uri": "https://localhost:8080/"
        },
        "id": "FSW6hvNHH7M4",
        "outputId": "8cc86065-f87f-4b5c-93f5-09f497e43353"
      },
      "outputs": [
        {
          "output_type": "stream",
          "name": "stdout",
          "text": [
            "0.7591623036649214\n"
          ]
        }
      ],
      "source": [
        "#Official player stats for 2021\n",
        "\n",
        "\n",
        "players = [{\n",
        "   'name': 'Cooper Kupp',\n",
        "   'catches': 145,\n",
        "   'targets': 191\n",
        "   },\n",
        "   {\n",
        "   'name': 'Deebo Samuel',\n",
        "   'catches': 77,\n",
        "   'targets': 121\n",
        "   },\n",
        "   {\n",
        "   'name': 'Justin Jefferson',\n",
        "   'catches': 108,\n",
        "   'targets': 167\n",
        "   },\n",
        "   {\n",
        "   'name': 'Jaylen Waddle',   \n",
        "   'catches': 104,\n",
        "   'targets': 140 \n",
        "   }\n",
        "]\n",
        "\n",
        "\n",
        "def get_catch_rate(player):\n",
        "    if type(player) is not dict:\n",
        "        print('You need to pass in a dictionary!')\n",
        "        return\n",
        "    else:\n",
        "        pass\n",
        "\n",
        "\n",
        "    catches = player['catches']\n",
        "    targets = player['targets']\n",
        "\n",
        "\n",
        "    if catches > targets:\n",
        "        print('You can not have more catches than targets')\n",
        "        return\n",
        "    else:\n",
        "        pass\n",
        "\n",
        "    catch_rate = catches/targets\n",
        "\n",
        "    return catch_rate\n",
        "\n",
        "kupp = players[0]\n",
        "kupps_catch_rate = get_catch_rate(kupp)\n",
        "print(kupps_catch_rate)"
      ]
    },
    {
      "cell_type": "code",
      "source": [
        "#Official stats from 2021, focusing solely on top four players to finish >= 16 games.\n",
        "\n",
        "running_backs = [{\n",
        "    \"name\": 'Jonathan Taylor',\n",
        "    \"rushing attempts\": 332,\n",
        "    \"yds\": 1811,\n",
        "    \"rushing_td\": 18,\n",
        "    \"receiving_yds\": 360,\n",
        "    \"receptions\": 40,\n",
        "    \"receiving_td\": 2\n",
        "},{\n",
        "    \"name\": 'Najee Harris',\n",
        "    \"rushing attempts\": 307,\n",
        "    \"yds\": 1200,\n",
        "    \"rushing_td\": 7,\n",
        "    \"receiving_yds\": 467,\n",
        "    \"receptions\": 74,\n",
        "    \"receiving_td\": 3\n",
        "},{\n",
        "    \"name\": 'Joe Mixon',\n",
        "    \"rushing attempts\": 292,\n",
        "    \"yds\": 1205,\n",
        "    \"rushing_td\": 13,\n",
        "    \"receiving_yds\": 314,\n",
        "    \"receptions\": 42,\n",
        "    \"receiving_td\": 3\n",
        "},{\n",
        "    \"name\": 'Antonio Gibson',\n",
        "    \"rushing attempts\": 258,\n",
        "    \"yds\": 1037,\n",
        "    \"rushing_td\": 7,\n",
        "    \"receiving_yds\": 294,\n",
        "    \"receptions\": 42,\n",
        "    \"receiving_td\": 3\n",
        "}]\n",
        "\n",
        "for rb in running_backs:\n",
        "  print(rb)"
      ],
      "metadata": {
        "colab": {
          "base_uri": "https://localhost:8080/"
        },
        "id": "weC_aFGXHP48",
        "outputId": "73eca868-7580-451d-9789-e5f58adaab0e"
      },
      "execution_count": 4,
      "outputs": [
        {
          "output_type": "stream",
          "name": "stdout",
          "text": [
            "{'name': 'Jonathan Taylor', 'rushing attempts': 332, 'yds': 1811, 'rushing_td': 18, 'receiving_yds': 360, 'receptions': 40, 'receiving_td': 2}\n",
            "{'name': 'Najee Harris', 'rushing attempts': 307, 'yds': 1200, 'rushing_td': 7, 'receiving_yds': 467, 'receptions': 74, 'receiving_td': 3}\n",
            "{'name': 'Joe Mixon', 'rushing attempts': 292, 'yds': 1205, 'rushing_td': 13, 'receiving_yds': 314, 'receptions': 42, 'receiving_td': 3}\n",
            "{'name': 'Antonio Gibson', 'rushing attempts': 258, 'yds': 1037, 'rushing_td': 7, 'receiving_yds': 294, 'receptions': 42, 'receiving_td': 3}\n"
          ]
        }
      ]
    }
  ]
}