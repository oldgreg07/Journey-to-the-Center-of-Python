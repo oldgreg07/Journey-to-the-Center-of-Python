{
  "nbformat": 4,
  "nbformat_minor": 0,
  "metadata": {
    "colab": {
      "provenance": [],
      "authorship_tag": "ABX9TyMbnCkrsBxQonQBgBXyy7fu",
      "include_colab_link": true
    },
    "kernelspec": {
      "name": "python3",
      "display_name": "Python 3"
    },
    "language_info": {
      "name": "python"
    }
  },
  "cells": [
    {
      "cell_type": "markdown",
      "metadata": {
        "id": "view-in-github",
        "colab_type": "text"
      },
      "source": [
        "<a href=\"https://colab.research.google.com/github/oldgreg07/Journey-to-the-Center-of-Python/blob/main/PythonProject2.ipynb\" target=\"_parent\"><img src=\"https://colab.research.google.com/assets/colab-badge.svg\" alt=\"Open In Colab\"/></a>"
      ]
    },
    {
      "cell_type": "code",
      "execution_count": 1,
      "metadata": {
        "colab": {
          "base_uri": "https://localhost:8080/"
        },
        "id": "FSW6hvNHH7M4",
        "outputId": "8cc86065-f87f-4b5c-93f5-09f497e43353"
      },
      "outputs": [
        {
          "output_type": "stream",
          "name": "stdout",
          "text": [
            "0.7591623036649214\n"
          ]
        }
      ],
      "source": [
        "#Official player stats for 2021\n",
        "\n",
        "\n",
        "players = [{\n",
        "   'name': 'Cooper Kupp',\n",
        "   'catches': 145,\n",
        "   'targets': 191\n",
        "   },\n",
        "   {\n",
        "   'name': 'Deebo Samuel',\n",
        "   'catches': 77,\n",
        "   'targets': 121\n",
        "   },\n",
        "   {\n",
        "   'name': 'Justin Jefferson',\n",
        "   'catches': 108,\n",
        "   'targets': 167\n",
        "   },\n",
        "   {\n",
        "   'name': 'Jaylen Waddle',   \n",
        "   'catches': 104,\n",
        "   'targets': 140 \n",
        "   }\n",
        "]\n",
        "\n",
        "\n",
        "def get_catch_rate(player):\n",
        "    if type(player) is not dict:\n",
        "        print('You need to pass in a dictionary!')\n",
        "        return\n",
        "    else:\n",
        "        pass\n",
        "\n",
        "\n",
        "    catches = player['catches']\n",
        "    targets = player['targets']\n",
        "\n",
        "\n",
        "    if catches > targets:\n",
        "        print('You can not have more catches than targets')\n",
        "        return\n",
        "    else:\n",
        "        pass\n",
        "\n",
        "    catch_rate = catches/targets\n",
        "\n",
        "    return catch_rate\n",
        "\n",
        "kupp = players[0]\n",
        "kupps_catch_rate = get_catch_rate(kupp)\n",
        "print(kupps_catch_rate)"
      ]
    },
    {
      "cell_type": "code",
      "source": [
        "running_backs = [{\n",
        "    \"name\": 'Ezekiel Elliott',\n",
        "    \"rushing attempts\": 301,\n",
        "    \"yds\": 1357,\n",
        "    \"rushing_td\": 12,\n",
        "    \"receiving_yds\": 420,\n",
        "    \"receptions\": 54,\n",
        "    \"receiving_td\": 2\n",
        "},{\n",
        "    \"name\": 'Christian McCaffrey',\n",
        "    \"rushing attempts\": 287,\n",
        "    \"yds\": 1387,\n",
        "    \"rushing_td\": 15,\n",
        "    \"receiving_yds\": 1005,\n",
        "    \"receptions\": 116,\n",
        "    \"receiving_td\": 4\n",
        "},{\n",
        "    \"name\": 'Derrick Henry',\n",
        "    \"rushing attempts\": 303,\n",
        "    \"yds\": 1540,\n",
        "    \"rushing_td\": 16,\n",
        "    \"receiving_yds\": 206,\n",
        "    \"receptions\": 18,\n",
        "    \"receiving_td\": 2\n",
        "}]\n",
        "\n",
        "for rb in running_backs:\n",
        "  print(rb)"
      ],
      "metadata": {
        "colab": {
          "base_uri": "https://localhost:8080/"
        },
        "id": "weC_aFGXHP48",
        "outputId": "d16fd6d1-7a10-4a58-97fe-8779825cd136"
      },
      "execution_count": 3,
      "outputs": [
        {
          "output_type": "stream",
          "name": "stdout",
          "text": [
            "{'name': 'Ezekiel Elliott', 'rushing attempts': 301, 'yds': 1357, 'rushing_td': 12, 'receiving_yds': 420, 'receptions': 54, 'receiving_td': 2}\n",
            "{'name': 'Christian McCaffrey', 'rushing attempts': 287, 'yds': 1387, 'rushing_td': 15, 'receiving_yds': 1005, 'receptions': 116, 'receiving_td': 4}\n",
            "{'name': 'Derrick Henry', 'rushing attempts': 303, 'yds': 1540, 'rushing_td': 16, 'receiving_yds': 206, 'receptions': 18, 'receiving_td': 2}\n"
          ]
        }
      ]
    }
  ]
}