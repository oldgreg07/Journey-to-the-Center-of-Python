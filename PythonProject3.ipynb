{
  "nbformat": 4,
  "nbformat_minor": 0,
  "metadata": {
    "colab": {
      "provenance": [],
      "authorship_tag": "ABX9TyNg1o2SuKjaoo3d/qx1sUUq",
      "include_colab_link": true
    },
    "kernelspec": {
      "name": "python3",
      "display_name": "Python 3"
    },
    "language_info": {
      "name": "python"
    }
  },
  "cells": [
    {
      "cell_type": "markdown",
      "metadata": {
        "id": "view-in-github",
        "colab_type": "text"
      },
      "source": [
        "<a href=\"https://colab.research.google.com/github/oldgreg07/Journey-to-the-Center-of-Python/blob/main/PythonProject3.ipynb\" target=\"_parent\"><img src=\"https://colab.research.google.com/assets/colab-badge.svg\" alt=\"Open In Colab\"/></a>"
      ]
    },
    {
      "cell_type": "code",
      "execution_count": 18,
      "metadata": {
        "colab": {
          "base_uri": "https://localhost:8080/"
        },
        "id": "TtIhwcQ8b43Z",
        "outputId": "b5e56938-ce90-4cd8-911c-4fdd6249014e"
      },
      "outputs": [
        {
          "output_type": "execute_result",
          "data": {
            "text/plain": [
              "{'yards_per_carry': 6.186440677966102, 'catch_rate': 0.6363636363636364}"
            ]
          },
          "metadata": {},
          "execution_count": 18
        }
      ],
      "source": [
        "#This course was a deep dive into Object Oriented Programming and understanding how that impacts code creation in Python. \n",
        "\n",
        "class Player:\n",
        "\n",
        "    def __init__(self, name, pos, catches, targets, rushing_attempts, rushing_yds):\n",
        "        self.name = name\n",
        "        self.pos = pos\n",
        "        self.catches = catches\n",
        "        self.targets = targets\n",
        "        self.rushing_attempts = rushing_attempts\n",
        "        self.rushing_yds = rushing_yds\n",
        "\n",
        "    def catch_rate(self):\n",
        "        return self.catches/self.targets\n",
        "      \n",
        "    def yards_per_carry(self):\n",
        "        return self.rushing_yds/self.rushing_attempts\n",
        "\n",
        "    def efficieny(self):\n",
        "        return{\n",
        "            'yards_per_carry': self.yards_per_carry(),\n",
        "            'catch_rate': self.catch_rate()\n",
        "        }\n",
        "\n",
        "#As has been the case with previous projects, I opted to focus on a player from the 2021 season. \n",
        "#Deebo Samuel was a bit of a unicorn among the top receivers last year. What he lacked in catch_rate,\n",
        "#he more than made up for with an unusually high amount of rushing attempts; 14 total TDs didn't hurt.\n",
        "\n",
        "deebo = Player('Julio Jones', 'WR', 77, 121, 59, 365)\n",
        "deebo.efficieny()"
      ]
    }
  ]
}